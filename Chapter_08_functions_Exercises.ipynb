{
 "cells": [
  {
   "cell_type": "markdown",
   "id": "valid-candy",
   "metadata": {},
   "source": [
    "# CHAPTER 8 FUNCTIONS - EXERCISES"
   ]
  },
  {
   "cell_type": "markdown",
   "id": "amended-habitat",
   "metadata": {},
   "source": [
    "8-1. Message:<br>\n",
    "Write a function called display_message() that prints one sentence telling everyone what you are learning about in this chapter. Call the function, and make sure the message displays correctly"
   ]
  },
  {
   "cell_type": "code",
   "execution_count": 1,
   "id": "subjective-romantic",
   "metadata": {},
   "outputs": [],
   "source": [
    "# Write your code here"
   ]
  },
  {
   "cell_type": "markdown",
   "id": "polyphonic-plymouth",
   "metadata": {},
   "source": [
    "8-2. Favorite Book:<br>\n",
    "Write a function called favorite_book() that accepts one parameter, title. The function should print a message, such as One of my favorite books is Alice in Wonderland. Call the function, making sure to include a book title as an argument in the function call."
   ]
  },
  {
   "cell_type": "code",
   "execution_count": 2,
   "id": "mysterious-fishing",
   "metadata": {},
   "outputs": [],
   "source": [
    "# Write your code here"
   ]
  },
  {
   "cell_type": "markdown",
   "id": "internal-cloud",
   "metadata": {},
   "source": [
    "8-3. T-Shirt:<br>\n",
    "Write a function called make_shirt() that accepts a size and the text of a message that should be printed on the shirt. The function should print a sentence summarizing the size of the shirt and the message printed on it.<br>\n",
    "Call the function once using positional arguments to make a shirt. Call the function a second time using keyword arguments."
   ]
  },
  {
   "cell_type": "code",
   "execution_count": 3,
   "id": "restricted-garbage",
   "metadata": {},
   "outputs": [],
   "source": [
    "# Write your code here"
   ]
  },
  {
   "cell_type": "markdown",
   "id": "empty-vietnamese",
   "metadata": {},
   "source": [
    "8-4. Large Shirts:<br>\n",
    "Modify the make_shirt() function so that shirts are large by default with a message that reads I love Python. Make a large shirt and a medium shirt with the default message, and a shirt of any size with a different message."
   ]
  },
  {
   "cell_type": "code",
   "execution_count": 4,
   "id": "adopted-apache",
   "metadata": {},
   "outputs": [],
   "source": [
    "# Write your code here"
   ]
  },
  {
   "cell_type": "markdown",
   "id": "structured-operation",
   "metadata": {},
   "source": [
    "8-5. Cities: <br>\n",
    "Write a function called describe_city() that accepts the name of a city and its country. The function should print a simple sentence, such as Reykjavik is in Iceland. Give the parameter for the country a default value.<br>\n",
    "Call your function for three different cities, at least one of which is not in the default country."
   ]
  },
  {
   "cell_type": "code",
   "execution_count": 5,
   "id": "incorporate-bottle",
   "metadata": {},
   "outputs": [],
   "source": [
    "# Write your code here"
   ]
  },
  {
   "cell_type": "markdown",
   "id": "loved-wildlife",
   "metadata": {},
   "source": [
    "8-6. City Names:<br>\n",
    "Write a function called city_country() that takes in the name of a city and its country. The function should return a string formatted like this:<br>\n",
    "<b>\"Santiago, Chile\"</b><br>\n",
    "Call your function with at least three city-country pairs, and print the values that are returned."
   ]
  },
  {
   "cell_type": "code",
   "execution_count": 6,
   "id": "communist-season",
   "metadata": {},
   "outputs": [],
   "source": [
    "# Write your code here"
   ]
  },
  {
   "cell_type": "markdown",
   "id": "tracked-clothing",
   "metadata": {},
   "source": [
    "8-7. Album:<br>\n",
    "Write a function called make_album() that builds a dictionary describing a music album. The function should take in an artist name and an album title, and it should return a dictionary containing these two pieces of information. Use the function to make three dictionaries representing different albums. Print each return value to show that the dictionaries are storing the album information correctly.<br>\n",
    "Use None to add an optional parameter to make_album() that allows you to store the number of songs on an album. If the calling line includes a value for the number of songs, add that value to the album’s dictionary. Make at least one new function call that includes the number of songs on an album."
   ]
  },
  {
   "cell_type": "code",
   "execution_count": 7,
   "id": "monetary-newspaper",
   "metadata": {},
   "outputs": [],
   "source": [
    "# Write your code here"
   ]
  },
  {
   "cell_type": "markdown",
   "id": "hindu-niger",
   "metadata": {},
   "source": [
    "8-8. User Albums:<br>\n",
    "Start with your program from Exercise 8-7. Write a while loop that allows users to enter an album’s artist and title. Once you have that information, call make_album() with the user’s input and print the dictionary that’s created. Be sure to include a quit value in the while loop."
   ]
  },
  {
   "cell_type": "code",
   "execution_count": 8,
   "id": "authentic-cleaner",
   "metadata": {},
   "outputs": [],
   "source": [
    "# Write your code here"
   ]
  },
  {
   "cell_type": "markdown",
   "id": "built-webster",
   "metadata": {},
   "source": [
    "8-9. Messages:<br>\n",
    "Make a list containing a series of short text messages. Pass the list to a function called show_messages(), which prints each text message."
   ]
  },
  {
   "cell_type": "code",
   "execution_count": 9,
   "id": "double-germany",
   "metadata": {},
   "outputs": [],
   "source": [
    "# Write your code here"
   ]
  },
  {
   "cell_type": "markdown",
   "id": "advised-import",
   "metadata": {},
   "source": [
    "8-10. Sending Messages:<br>\n",
    "Start with a copy of your program from Exercise 8-9. Write a function called send_messages() that prints each text message and\n",
    "moves each message to a new list called sent_messages as it’s printed. After calling the function, print both of your lists to make sure the messages were moved correctly."
   ]
  },
  {
   "cell_type": "code",
   "execution_count": 10,
   "id": "chief-minute",
   "metadata": {},
   "outputs": [],
   "source": [
    "# Write your code here"
   ]
  },
  {
   "cell_type": "markdown",
   "id": "rotary-exclusive",
   "metadata": {},
   "source": [
    "8-11. Archived Messages:<br>\n",
    "Start with your work from Exercise 8-10. Call the function send_messages() with a copy of the list of messages. After calling the function, print both of your lists to show that the original list has retained its messages."
   ]
  },
  {
   "cell_type": "code",
   "execution_count": 11,
   "id": "sought-engine",
   "metadata": {},
   "outputs": [],
   "source": [
    "# Write your code here"
   ]
  },
  {
   "cell_type": "markdown",
   "id": "closing-mumbai",
   "metadata": {},
   "source": [
    "8-12. Sandwiches:<br>\n",
    "Write a function that accepts a list of items a person wants on a sandwich. The function should have one parameter that collects as many items as the function call provides, and it should print a summary of the sandwich that’s being ordered. Call the function three times, using a different number of arguments each time."
   ]
  },
  {
   "cell_type": "code",
   "execution_count": 12,
   "id": "ruled-albuquerque",
   "metadata": {},
   "outputs": [],
   "source": [
    "# Write your code here"
   ]
  },
  {
   "cell_type": "markdown",
   "id": "uniform-species",
   "metadata": {},
   "source": [
    "8-13. User Profile:<br>\n",
    "Start with a copy of user_profile.py from page 149 (def build_profile)(line 35 main notebook). Build a profile of yourself by calling build_profile(), using your first and last names and three other key-value pairs that describe you."
   ]
  },
  {
   "cell_type": "code",
   "execution_count": 13,
   "id": "animal-fetish",
   "metadata": {},
   "outputs": [],
   "source": [
    "# Write your code here"
   ]
  },
  {
   "cell_type": "markdown",
   "id": "national-contamination",
   "metadata": {},
   "source": [
    "8-14. Cars:<br>\n",
    "Write a function that stores information about a car in a dictionary. The function should always receive a manufacturer and a model name. It should then accept an arbitrary number of keyword arguments. Call the function with the required information and two other name-value pairs, such as a color or an optional feature. Your function should work for a call like this one:<br><br>\n",
    "<i><b>car = make_car('subaru', 'outback', color='blue', tow_package=True)</b></i><br><br>\n",
    "Print the dictionary that’s returned to make sure all the information was stored correctly."
   ]
  },
  {
   "cell_type": "code",
   "execution_count": 14,
   "id": "wired-catalog",
   "metadata": {},
   "outputs": [],
   "source": [
    "# Write your code here"
   ]
  },
  {
   "cell_type": "markdown",
   "id": "cellular-great",
   "metadata": {},
   "source": [
    "8-15. Printing Models:<br>\n",
    "Put the functions for the example printing_models.py in a separate file called printing_functions.py. Write an import statement at the top of printing_models.py, and modify the file to use the imported functions."
   ]
  },
  {
   "cell_type": "code",
   "execution_count": 15,
   "id": "seventh-stand",
   "metadata": {},
   "outputs": [],
   "source": [
    "# Write your code here"
   ]
  },
  {
   "cell_type": "markdown",
   "id": "creative-dryer",
   "metadata": {},
   "source": [
    "8-16. Imports:<br>\n",
    "Using a program you wrote that has one function in it, store that function in a separate file. Import the function into your main program file, and call the function using each of these approaches:<hr>\n",
    "import module_name<br>\n",
    "from module_name import function_name<br>\n",
    "from module_name import function_name as fn<br>\n",
    "import module_name as mn<br>\n",
    "from module_name import *"
   ]
  },
  {
   "cell_type": "code",
   "execution_count": 16,
   "id": "false-playlist",
   "metadata": {},
   "outputs": [],
   "source": [
    "# Write your code here"
   ]
  },
  {
   "cell_type": "markdown",
   "id": "mature-combining",
   "metadata": {},
   "source": [
    "8-17. Styling Functions:<br>\n",
    "Choose any three programs you wrote for this chapter, and make sure they follow the styling guidelines described in this section."
   ]
  },
  {
   "cell_type": "code",
   "execution_count": 17,
   "id": "arranged-prefix",
   "metadata": {},
   "outputs": [],
   "source": [
    "# Write your code here"
   ]
  },
  {
   "cell_type": "code",
   "execution_count": null,
   "id": "joined-alberta",
   "metadata": {},
   "outputs": [],
   "source": []
  }
 ],
 "metadata": {
  "kernelspec": {
   "display_name": "Python 3",
   "language": "python",
   "name": "python3"
  },
  "language_info": {
   "codemirror_mode": {
    "name": "ipython",
    "version": 3
   },
   "file_extension": ".py",
   "mimetype": "text/x-python",
   "name": "python",
   "nbconvert_exporter": "python",
   "pygments_lexer": "ipython3",
   "version": "3.8.5"
  }
 },
 "nbformat": 4,
 "nbformat_minor": 5
}
