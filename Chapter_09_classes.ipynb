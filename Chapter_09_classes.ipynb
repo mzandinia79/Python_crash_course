{
 "cells": [
  {
   "cell_type": "markdown",
   "id": "mysterious-separation",
   "metadata": {},
   "source": [
    "# Chapter 9 classes"
   ]
  },
  {
   "cell_type": "markdown",
   "id": "western-wayne",
   "metadata": {},
   "source": [
    "#### Example 1: Dog"
   ]
  },
  {
   "cell_type": "code",
   "execution_count": 6,
   "id": "rental-butler",
   "metadata": {},
   "outputs": [],
   "source": [
    "class Dog1:\n",
    "    def __init__(self, name, age):\n",
    "        self.name = name\n",
    "        self.age = age"
   ]
  },
  {
   "cell_type": "code",
   "execution_count": 7,
   "id": "common-management",
   "metadata": {},
   "outputs": [],
   "source": [
    "my_dog = Dog1('Willie', 6)"
   ]
  },
  {
   "cell_type": "code",
   "execution_count": 8,
   "id": "human-certification",
   "metadata": {},
   "outputs": [
    {
     "name": "stdout",
     "output_type": "stream",
     "text": [
      "Willie\n"
     ]
    }
   ],
   "source": [
    "print(my_dog.name)"
   ]
  },
  {
   "cell_type": "code",
   "execution_count": 9,
   "id": "desperate-ordinary",
   "metadata": {},
   "outputs": [
    {
     "name": "stdout",
     "output_type": "stream",
     "text": [
      "6\n"
     ]
    }
   ],
   "source": [
    "print(my_dog.age)"
   ]
  },
  {
   "cell_type": "code",
   "execution_count": 10,
   "id": "finite-finnish",
   "metadata": {},
   "outputs": [],
   "source": [
    "class Dog2:\n",
    "    def __init__(self, name, age):\n",
    "        self.name = name\n",
    "        self.age = age\n",
    "        \n",
    "    def sit(self):\n",
    "        print(f\"My dog, {self.name}, is sitting.\")\n",
    "        \n",
    "    def roll_over(self):\n",
    "        print(f\"My dog, {self.name}, rolled over!\")"
   ]
  },
  {
   "cell_type": "code",
   "execution_count": 12,
   "id": "nasty-mexican",
   "metadata": {},
   "outputs": [],
   "source": [
    "my_dog = Dog2('Willie', 5)"
   ]
  },
  {
   "cell_type": "code",
   "execution_count": 13,
   "id": "lyric-three",
   "metadata": {},
   "outputs": [
    {
     "name": "stdout",
     "output_type": "stream",
     "text": [
      "My dog, Willie, is sitting.\n"
     ]
    }
   ],
   "source": [
    "my_dog.sit()"
   ]
  },
  {
   "cell_type": "code",
   "execution_count": 14,
   "id": "decimal-clock",
   "metadata": {},
   "outputs": [
    {
     "name": "stdout",
     "output_type": "stream",
     "text": [
      "My dog, Willie, rolled over!\n"
     ]
    }
   ],
   "source": [
    "my_dog.roll_over()"
   ]
  },
  {
   "cell_type": "code",
   "execution_count": 16,
   "id": "dedicated-agent",
   "metadata": {},
   "outputs": [
    {
     "name": "stdout",
     "output_type": "stream",
     "text": [
      "\n",
      "My dog's name is 'Willie' and your dog's name is 'Lucy'.\n",
      "\n",
      "My dog's age is '6' and your dog's age is '4'.\n"
     ]
    }
   ],
   "source": [
    "my_dog = Dog2('Willie', 6)\n",
    "your_dog = Dog2('Lucy', 4)\n",
    "\n",
    "print(f\"\\nMy dog's name is '{my_dog.name}' and your dog's name is '{your_dog.name}'.\")\n",
    "print(f\"\\nMy dog's age is '{my_dog.age}' and your dog's age is '{your_dog.age}'.\")"
   ]
  },
  {
   "cell_type": "markdown",
   "id": "portable-brisbane",
   "metadata": {},
   "source": [
    "### Exercise 9-1 Restaurant"
   ]
  },
  {
   "cell_type": "code",
   "execution_count": 30,
   "id": "partial-gibson",
   "metadata": {},
   "outputs": [],
   "source": [
    "class Restaurant:\n",
    "    \"\"\"A simple class for restaurant.\"\"\"\n",
    "    \n",
    "    def __init__(self, restaurant_name, cuisine_type):\n",
    "        \"\"\"Initialize restaurant name and cuisine type\"\"\"\n",
    "        \n",
    "        self.restaurantName = restaurant_name\n",
    "        self.cuisineType = cuisine_type\n",
    "        \n",
    "    def describe_restaurant(self):\n",
    "        \"\"\"A simple sentence about restaurant.\"\"\"\n",
    "        \n",
    "        print(f\"The restaurant name is '{self.restaurantName}' and its cuisine type is '{self.cuisineType}'\")\n",
    "        \n",
    "    def open_restaurant(self):\n",
    "        \"\"\"A simple statement about restaurant's opening.\"\"\"\n",
    "        \n",
    "        print(f\"The '{self.restaurantName}' restaurant is open now.\")"
   ]
  },
  {
   "cell_type": "code",
   "execution_count": 32,
   "id": "interim-party",
   "metadata": {},
   "outputs": [
    {
     "name": "stdout",
     "output_type": "stream",
     "text": [
      "restaurant name = majid\n",
      "restaurant cuisnetype = Iranian\n",
      "The restaurant name is 'majid' and its cuisine type is 'Iranian'\n",
      "The 'majid' restaurant is open now.\n"
     ]
    }
   ],
   "source": [
    "majid_restaurant = Restaurant('majid', 'Iranian')\n",
    "print(f\"restaurant name = {majid_restaurant.restaurantName}\")\n",
    "print(f\"restaurant cuisnetype = {majid_restaurant.cuisineType}\")\n",
    "majid_restaurant.describe_restaurant()\n",
    "majid_restaurant.open_restaurant()"
   ]
  },
  {
   "cell_type": "markdown",
   "id": "personal-glucose",
   "metadata": {},
   "source": [
    "### Exercise 9-2 Three restaurants"
   ]
  },
  {
   "cell_type": "code",
   "execution_count": 33,
   "id": "crazy-carol",
   "metadata": {},
   "outputs": [
    {
     "name": "stdout",
     "output_type": "stream",
     "text": [
      "The restaurant name is 'Majid' and its cuisine type is 'Iranian'\n",
      "The restaurant name is 'Zahra' and its cuisine type is 'Fast food'\n",
      "The restaurant name is 'Shida' and its cuisine type is 'Mexican'\n"
     ]
    }
   ],
   "source": [
    "majid_restaurant = Restaurant('Majid', 'Iranian')\n",
    "zahra_restaurant = Restaurant('Zahra', 'Fast food')\n",
    "sheida_restaurant = Restaurant('Shida', 'Mexican')\n",
    "\n",
    "majid_restaurant.describe_restaurant()\n",
    "zahra_restaurant.describe_restaurant()\n",
    "sheida_restaurant.describe_restaurant()"
   ]
  },
  {
   "cell_type": "markdown",
   "id": "moral-juvenile",
   "metadata": {},
   "source": [
    "### Exercise 9-3 Users class"
   ]
  },
  {
   "cell_type": "code",
   "execution_count": 48,
   "id": "interested-walnut",
   "metadata": {},
   "outputs": [],
   "source": [
    "class Users:\n",
    "    \"\"\"A simple class about users\"\"\"\n",
    "    \n",
    "    def __init__(self, first_name, last_name, **user_info):\n",
    "        \"\"\"An initial function to get information about user\"\"\"\n",
    "        \n",
    "        self.fName  = first_name\n",
    "        self.lName = last_name\n",
    "        self.userInfo = user_info\n",
    "        \n",
    "    def describle_user(self):\n",
    "        \"\"\"A simple statement about every user\"\"\"\n",
    "        \n",
    "        print(f\"User's first name is '{self.fName}' and user's last name is '{self.lName}'.\")\n",
    "        print(f\"The other information about '{self.fName} {self.lName}' is:\")\n",
    "        for key, value in self.userInfo.items():\n",
    "            print(key, value)\n",
    "            \n",
    "    def greet_user(self):\n",
    "        \"\"\"Greet to the user\"\"\"\n",
    "        \n",
    "        print(f\"Welcome '{self.fName} {self.lName}'\")"
   ]
  },
  {
   "cell_type": "code",
   "execution_count": 49,
   "id": "satisfactory-vertical",
   "metadata": {},
   "outputs": [
    {
     "name": "stdout",
     "output_type": "stream",
     "text": [
      "User's first name is 'Majid' and user's last name is 'Zandi'.\n",
      "The other information about 'Majid Zandi' is:\n",
      "email majid@gmail.com\n",
      "phone 09025675067\n",
      "Welcome 'Majid Zandi'\n"
     ]
    }
   ],
   "source": [
    "majid_user = Users('Majid', 'Zandi', email='majid@gmail.com', phone='09025675067')\n",
    "majid_user.describle_user()\n",
    "majid_user.greet_user()"
   ]
  },
  {
   "cell_type": "code",
   "execution_count": null,
   "id": "champion-status",
   "metadata": {},
   "outputs": [],
   "source": []
  }
 ],
 "metadata": {
  "kernelspec": {
   "display_name": "Python 3",
   "language": "python",
   "name": "python3"
  },
  "language_info": {
   "codemirror_mode": {
    "name": "ipython",
    "version": 3
   },
   "file_extension": ".py",
   "mimetype": "text/x-python",
   "name": "python",
   "nbconvert_exporter": "python",
   "pygments_lexer": "ipython3",
   "version": "3.8.5"
  }
 },
 "nbformat": 4,
 "nbformat_minor": 5
}
