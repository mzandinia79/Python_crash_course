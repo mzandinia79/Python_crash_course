{
 "cells": [
  {
   "cell_type": "markdown",
   "id": "insured-museum",
   "metadata": {},
   "source": [
    "# CHAPTER 2 EXERCISES"
   ]
  },
  {
   "cell_type": "markdown",
   "id": "chubby-looking",
   "metadata": {},
   "source": [
    "2-1. Simple Message:<br> Assign a message to a variable, and then print that message."
   ]
  },
  {
   "cell_type": "code",
   "execution_count": 1,
   "id": "mental-stress",
   "metadata": {},
   "outputs": [],
   "source": [
    "# Write your code here"
   ]
  },
  {
   "cell_type": "markdown",
   "id": "former-rebound",
   "metadata": {},
   "source": [
    "2-2. Simple Messages:<br> Assign a message to a variable, and print that message. Then change the value of the variable to a new message, and print the new message."
   ]
  },
  {
   "cell_type": "code",
   "execution_count": 2,
   "id": "lightweight-birthday",
   "metadata": {},
   "outputs": [],
   "source": [
    "# Write your code here"
   ]
  },
  {
   "cell_type": "markdown",
   "id": "suspended-baseline",
   "metadata": {},
   "source": [
    "2-3. Personal Message:<br>Use a variable to represent a person’s name, and print a message to that person. Your message should be simple, such as, \"Hello Eric, would you like to learn some Python today?\""
   ]
  },
  {
   "cell_type": "code",
   "execution_count": 3,
   "id": "knowing-implementation",
   "metadata": {},
   "outputs": [],
   "source": [
    "# Write your code here"
   ]
  },
  {
   "cell_type": "markdown",
   "id": "nutritional-checklist",
   "metadata": {},
   "source": [
    "2-4. Name Cases: <br>\n",
    "Use a variable to represent a person’s name, and then print that person’s name in lowercase, uppercase, and title case."
   ]
  },
  {
   "cell_type": "code",
   "execution_count": 4,
   "id": "diagnostic-footwear",
   "metadata": {},
   "outputs": [],
   "source": [
    "# Write your code here"
   ]
  },
  {
   "cell_type": "markdown",
   "id": "dirty-angola",
   "metadata": {},
   "source": [
    "2-5. Famous Quote:<br>\n",
    "Find a quote from a famous person you admire. Print the quote and the name of its author. Your output should look something like the following, including the quotation marks:<br>\n",
    "<i><b>Albert Einstein once said, \"A person who never made a mistake never tried anything new.\"</b></i>"
   ]
  },
  {
   "cell_type": "code",
   "execution_count": 5,
   "id": "modern-conditioning",
   "metadata": {},
   "outputs": [],
   "source": [
    "# Write your code here"
   ]
  },
  {
   "cell_type": "markdown",
   "id": "christian-packaging",
   "metadata": {},
   "source": [
    "2-6. Famous Quote 2:<br>\n",
    "Repeat Exercise 2-5, but this time, represent the famous person’s name using a variable called famous_person. Then compose\n",
    "your message and represent it with a new variable called message. Print your message."
   ]
  },
  {
   "cell_type": "code",
   "execution_count": 6,
   "id": "comparative-mining",
   "metadata": {},
   "outputs": [],
   "source": [
    "# Write your code here"
   ]
  },
  {
   "cell_type": "markdown",
   "id": "wooden-colombia",
   "metadata": {},
   "source": [
    "2-7. Stripping Names:<br>\n",
    "Use a variable to represent a person’s name, and include some whitespace characters at the beginning and end of the name. Make sure you use each character combination, \"\\t\" and \"\\n\", at least once.<br>\n",
    "Print the name once, so the whitespace around the name is displayed. Then print the name using each of the three stripping functions, lstrip(), rstrip(), and strip()."
   ]
  },
  {
   "cell_type": "code",
   "execution_count": 7,
   "id": "double-covering",
   "metadata": {},
   "outputs": [],
   "source": [
    "# Write your code here"
   ]
  },
  {
   "cell_type": "markdown",
   "id": "golden-hammer",
   "metadata": {},
   "source": [
    "2-8. Number Eight:<br>\n",
    "Write addition, subtraction, multiplication, and division operations that each result in the number 8. Be sure to enclose your operations in print() calls to see the results. You should create four lines that look like this:<br>\n",
    "<hr>print(5+3)<hr>\n",
    "Your output should simply be four lines with the number 8 appearing once on each line."
   ]
  },
  {
   "cell_type": "code",
   "execution_count": 8,
   "id": "afraid-patrol",
   "metadata": {},
   "outputs": [],
   "source": [
    "# Write your code here"
   ]
  },
  {
   "cell_type": "markdown",
   "id": "labeled-billy",
   "metadata": {},
   "source": [
    "2-9. Favorite Number: <br>\n",
    "Use a variable to represent your favorite number. Then, using that variable, create a message that reveals your favorite number. Print that message."
   ]
  },
  {
   "cell_type": "code",
   "execution_count": 9,
   "id": "contrary-character",
   "metadata": {},
   "outputs": [],
   "source": [
    "# Write your code here"
   ]
  },
  {
   "cell_type": "markdown",
   "id": "ranking-procedure",
   "metadata": {},
   "source": [
    "2-10. Adding Comments: <br>\n",
    "Choose two of the programs you’ve written, and add at least one comment to each. If you don’t have anything specific to write\n",
    "because your programs are too simple at this point, just add your name and the current date at the top of each program file. Then write one sentence describing what the program does."
   ]
  },
  {
   "cell_type": "code",
   "execution_count": 10,
   "id": "bacterial-amateur",
   "metadata": {},
   "outputs": [],
   "source": [
    "# Write your code here"
   ]
  },
  {
   "cell_type": "code",
   "execution_count": 11,
   "id": "frank-aerospace",
   "metadata": {},
   "outputs": [],
   "source": [
    "# Write your code here"
   ]
  }
 ],
 "metadata": {
  "kernelspec": {
   "display_name": "Python 3",
   "language": "python",
   "name": "python3"
  },
  "language_info": {
   "codemirror_mode": {
    "name": "ipython",
    "version": 3
   },
   "file_extension": ".py",
   "mimetype": "text/x-python",
   "name": "python",
   "nbconvert_exporter": "python",
   "pygments_lexer": "ipython3",
   "version": "3.8.5"
  }
 },
 "nbformat": 4,
 "nbformat_minor": 5
}
