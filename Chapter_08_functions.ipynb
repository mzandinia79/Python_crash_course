{
 "cells": [
  {
   "cell_type": "markdown",
   "id": "applied-chrome",
   "metadata": {},
   "source": [
    "# CHAPTER 8 FUNCTIONS"
   ]
  },
  {
   "cell_type": "markdown",
   "id": "exterior-metallic",
   "metadata": {},
   "source": [
    "#### Defining a Function"
   ]
  },
  {
   "cell_type": "code",
   "execution_count": 1,
   "id": "agricultural-assumption",
   "metadata": {},
   "outputs": [],
   "source": [
    "def greet_user():\n",
    "    \"\"\"Display a simple greeting\"\"\"\n",
    "    \n",
    "    print(\"Hello!\")"
   ]
  },
  {
   "cell_type": "code",
   "execution_count": 2,
   "id": "first-family",
   "metadata": {},
   "outputs": [
    {
     "name": "stdout",
     "output_type": "stream",
     "text": [
      "Hello!\n"
     ]
    }
   ],
   "source": [
    "greet_user()"
   ]
  },
  {
   "cell_type": "markdown",
   "id": "fresh-bridges",
   "metadata": {},
   "source": [
    "#### Passing Information to a Function"
   ]
  },
  {
   "cell_type": "code",
   "execution_count": 3,
   "id": "shared-willow",
   "metadata": {},
   "outputs": [],
   "source": [
    "def greet_user(username):\n",
    "    \"\"\"Display a simple greeting\"\"\"\n",
    "    \n",
    "    print(f\"Hello, {username.title()}!\")"
   ]
  },
  {
   "cell_type": "code",
   "execution_count": 4,
   "id": "employed-shield",
   "metadata": {},
   "outputs": [
    {
     "name": "stdout",
     "output_type": "stream",
     "text": [
      "Hello, Majid!\n"
     ]
    }
   ],
   "source": [
    "greet_user('majid')"
   ]
  },
  {
   "cell_type": "markdown",
   "id": "mature-lithuania",
   "metadata": {},
   "source": [
    "### Passing Arguments"
   ]
  },
  {
   "cell_type": "markdown",
   "id": "simple-evidence",
   "metadata": {},
   "source": [
    "#### Positional Arguments"
   ]
  },
  {
   "cell_type": "code",
   "execution_count": 7,
   "id": "sweet-behavior",
   "metadata": {},
   "outputs": [],
   "source": [
    "def describe_pet(animal_type, pet_name):\n",
    "    \"\"\"Display information about a pet\"\"\"\n",
    "    \n",
    "    print(f\"\\nI have a {animal_type}.\")\n",
    "    print(f\"\\nMy {animal_type}'s name is {pet_name}.\")"
   ]
  },
  {
   "cell_type": "code",
   "execution_count": 8,
   "id": "beneficial-quantity",
   "metadata": {},
   "outputs": [
    {
     "name": "stdout",
     "output_type": "stream",
     "text": [
      "\n",
      "I have a hasmster.\n",
      "\n",
      "My hasmster's name is harry.\n"
     ]
    }
   ],
   "source": [
    "describe_pet('hasmster', 'harry')"
   ]
  },
  {
   "cell_type": "markdown",
   "id": "premier-entrance",
   "metadata": {},
   "source": [
    "#### Multiple Function Calls"
   ]
  },
  {
   "cell_type": "code",
   "execution_count": 9,
   "id": "integrated-degree",
   "metadata": {},
   "outputs": [
    {
     "name": "stdout",
     "output_type": "stream",
     "text": [
      "\n",
      "I have a hasmster.\n",
      "\n",
      "My hasmster's name is harry.\n",
      "\n",
      "I have a dog.\n",
      "\n",
      "My dog's name is willie.\n"
     ]
    }
   ],
   "source": [
    "describe_pet('hasmster', 'harry')\n",
    "describe_pet('dog', 'willie')"
   ]
  },
  {
   "cell_type": "markdown",
   "id": "inside-enlargement",
   "metadata": {},
   "source": [
    "#### Order Matters in Positional Arguments"
   ]
  },
  {
   "cell_type": "code",
   "execution_count": 10,
   "id": "monthly-optimum",
   "metadata": {},
   "outputs": [
    {
     "name": "stdout",
     "output_type": "stream",
     "text": [
      "\n",
      "I have a harry.\n",
      "\n",
      "My harry's name is hamster.\n"
     ]
    }
   ],
   "source": [
    "describe_pet('harry', 'hamster')"
   ]
  },
  {
   "cell_type": "markdown",
   "id": "another-oxide",
   "metadata": {},
   "source": [
    "#### Keyword Arguments"
   ]
  },
  {
   "cell_type": "code",
   "execution_count": 11,
   "id": "hollywood-metallic",
   "metadata": {},
   "outputs": [
    {
     "name": "stdout",
     "output_type": "stream",
     "text": [
      "\n",
      "I have a hamster.\n",
      "\n",
      "My hamster's name is harry.\n"
     ]
    }
   ],
   "source": [
    "describe_pet(animal_type='hamster', pet_name='harry')"
   ]
  },
  {
   "cell_type": "code",
   "execution_count": 12,
   "id": "stainless-concentration",
   "metadata": {},
   "outputs": [
    {
     "name": "stdout",
     "output_type": "stream",
     "text": [
      "\n",
      "I have a hamster.\n",
      "\n",
      "My hamster's name is harry.\n"
     ]
    }
   ],
   "source": [
    "describe_pet(pet_name='harry', animal_type='hamster')"
   ]
  },
  {
   "cell_type": "markdown",
   "id": "purple-group",
   "metadata": {},
   "source": [
    "#### Default Values"
   ]
  },
  {
   "cell_type": "code",
   "execution_count": 19,
   "id": "individual-police",
   "metadata": {},
   "outputs": [],
   "source": [
    "def describe_pet(pet_name, animal_type='dog'):\n",
    "    \"\"\"Display information about a pet\"\"\"\n",
    "    \n",
    "    print(f\"\\nI have a {animal_type}.\")\n",
    "    print(f\"My {animal_type}'s name is {pet_name}.\")"
   ]
  },
  {
   "cell_type": "code",
   "execution_count": 20,
   "id": "front-david",
   "metadata": {},
   "outputs": [
    {
     "name": "stdout",
     "output_type": "stream",
     "text": [
      "\n",
      "I have a dog.\n",
      "My dog's name is willie.\n"
     ]
    }
   ],
   "source": [
    "describe_pet(pet_name='willie')"
   ]
  },
  {
   "cell_type": "code",
   "execution_count": 21,
   "id": "rocky-election",
   "metadata": {},
   "outputs": [
    {
     "name": "stdout",
     "output_type": "stream",
     "text": [
      "\n",
      "I have a dog.\n",
      "My dog's name is willie.\n"
     ]
    }
   ],
   "source": [
    "describe_pet('willie')"
   ]
  },
  {
   "cell_type": "code",
   "execution_count": 22,
   "id": "atomic-anchor",
   "metadata": {},
   "outputs": [
    {
     "name": "stdout",
     "output_type": "stream",
     "text": [
      "\n",
      "I have a hamster.\n",
      "My hamster's name is harry.\n"
     ]
    }
   ],
   "source": [
    "describe_pet(animal_type='hamster', pet_name='harry')"
   ]
  },
  {
   "cell_type": "markdown",
   "id": "composite-leisure",
   "metadata": {},
   "source": [
    "#### Equivalent Function Calls"
   ]
  },
  {
   "cell_type": "code",
   "execution_count": 23,
   "id": "regulated-convenience",
   "metadata": {},
   "outputs": [
    {
     "name": "stdout",
     "output_type": "stream",
     "text": [
      "\n",
      "I have a dog.\n",
      "My dog's name is willie.\n",
      "\n",
      "I have a dog.\n",
      "My dog's name is willie.\n",
      "\n",
      "I have a hamster.\n",
      "My hamster's name is harry.\n",
      "\n",
      "I have a hamster.\n",
      "My hamster's name is harry.\n",
      "\n",
      "I have a hamster.\n",
      "My hamster's name is harry.\n"
     ]
    }
   ],
   "source": [
    "# A dog named Willie.\n",
    "describe_pet('willie')\n",
    "describe_pet(pet_name='willie')\n",
    "\n",
    "# A hamster named Harry.\n",
    "describe_pet('harry', 'hamster')\n",
    "describe_pet(pet_name='harry', animal_type='hamster')\n",
    "describe_pet(animal_type='hamster', pet_name='harry')"
   ]
  },
  {
   "cell_type": "markdown",
   "id": "based-bench",
   "metadata": {},
   "source": [
    "#### Avoiding Argument Errors"
   ]
  },
  {
   "cell_type": "code",
   "execution_count": 24,
   "id": "precise-bandwidth",
   "metadata": {},
   "outputs": [
    {
     "ename": "TypeError",
     "evalue": "describe_pet() missing 1 required positional argument: 'pet_name'",
     "output_type": "error",
     "traceback": [
      "\u001b[1;31m---------------------------------------------------------------------------\u001b[0m",
      "\u001b[1;31mTypeError\u001b[0m                                 Traceback (most recent call last)",
      "\u001b[1;32m<ipython-input-24-f95e5f55e3d1>\u001b[0m in \u001b[0;36m<module>\u001b[1;34m\u001b[0m\n\u001b[1;32m----> 1\u001b[1;33m \u001b[0mdescribe_pet\u001b[0m\u001b[1;33m(\u001b[0m\u001b[1;33m)\u001b[0m\u001b[1;33m\u001b[0m\u001b[1;33m\u001b[0m\u001b[0m\n\u001b[0m",
      "\u001b[1;31mTypeError\u001b[0m: describe_pet() missing 1 required positional argument: 'pet_name'"
     ]
    }
   ],
   "source": [
    "describe_pet()"
   ]
  },
  {
   "cell_type": "markdown",
   "id": "incorporated-optics",
   "metadata": {},
   "source": [
    "### Return Values"
   ]
  },
  {
   "cell_type": "markdown",
   "id": "greatest-essence",
   "metadata": {},
   "source": [
    "#### Returning a Simple Value"
   ]
  },
  {
   "cell_type": "code",
   "execution_count": 27,
   "id": "satellite-electricity",
   "metadata": {},
   "outputs": [],
   "source": [
    "def get_formatted_name(first_name, last_name):\n",
    "    \"\"\"Display full name neatly formatted\"\"\"\n",
    "    \n",
    "    full_name = f\"{first_name} {last_name}\"\n",
    "    return full_name.title()"
   ]
  },
  {
   "cell_type": "code",
   "execution_count": 28,
   "id": "engaging-binding",
   "metadata": {},
   "outputs": [
    {
     "data": {
      "text/plain": [
       "'Majid Zandi'"
      ]
     },
     "execution_count": 28,
     "metadata": {},
     "output_type": "execute_result"
    }
   ],
   "source": [
    "get_formatted_name('majid', 'zandi')"
   ]
  },
  {
   "cell_type": "markdown",
   "id": "round-dylan",
   "metadata": {},
   "source": [
    "#### Making an Argument Optional"
   ]
  },
  {
   "cell_type": "code",
   "execution_count": 29,
   "id": "necessary-token",
   "metadata": {},
   "outputs": [],
   "source": [
    "def get_formatted_name(first_name, last_name, middle_name=''):\n",
    "    \"\"\"Display full name neatly formatted\"\"\"\n",
    "    \n",
    "    if middle_name:\n",
    "        full_name = f\"{first_name} {middle_name} {last_name}\"\n",
    "    else:\n",
    "        full_name = f\"{first_name} {last_name}\"\n",
    "    return full_name.title()"
   ]
  },
  {
   "cell_type": "code",
   "execution_count": 32,
   "id": "above-reflection",
   "metadata": {},
   "outputs": [
    {
     "data": {
      "text/plain": [
       "'Majid Zandi Nia'"
      ]
     },
     "execution_count": 32,
     "metadata": {},
     "output_type": "execute_result"
    }
   ],
   "source": [
    "get_formatted_name(first_name='majid', middle_name='zandi', last_name='nia')"
   ]
  },
  {
   "cell_type": "code",
   "execution_count": 33,
   "id": "specific-bottom",
   "metadata": {},
   "outputs": [
    {
     "data": {
      "text/plain": [
       "'Majid Zandinia'"
      ]
     },
     "execution_count": 33,
     "metadata": {},
     "output_type": "execute_result"
    }
   ],
   "source": [
    "get_formatted_name(first_name='majid', last_name='zandinia')"
   ]
  },
  {
   "cell_type": "markdown",
   "id": "useful-thong",
   "metadata": {},
   "source": [
    "#### Returning a Dictionary"
   ]
  },
  {
   "cell_type": "code",
   "execution_count": 34,
   "id": "sticky-growing",
   "metadata": {},
   "outputs": [],
   "source": [
    "def build_person(firstname, lastname):\n",
    "    \"\"\"Return a dictionary of information about a person\"\"\"\n",
    "    \n",
    "    person = {'first': firstname, 'last': lastname}\n",
    "    return person"
   ]
  },
  {
   "cell_type": "code",
   "execution_count": 35,
   "id": "express-serve",
   "metadata": {},
   "outputs": [
    {
     "data": {
      "text/plain": [
       "{'first': 'majid', 'last': 'zandi'}"
      ]
     },
     "execution_count": 35,
     "metadata": {},
     "output_type": "execute_result"
    }
   ],
   "source": [
    "build_person('majid', 'zandi')"
   ]
  },
  {
   "cell_type": "code",
   "execution_count": 36,
   "id": "express-fraction",
   "metadata": {},
   "outputs": [],
   "source": [
    "def build_person(firstname, lastname, age=None):\n",
    "    \"\"\"Return a dictionary of information about a person\"\"\"\n",
    "    \n",
    "    person = {'first': firstname, 'last': lastname}\n",
    "    if age:\n",
    "        person['age'] = age\n",
    "    return person"
   ]
  },
  {
   "cell_type": "code",
   "execution_count": 37,
   "id": "wicked-statement",
   "metadata": {},
   "outputs": [
    {
     "data": {
      "text/plain": [
       "{'first': 'majid', 'last': 'zandi', 'age': 42}"
      ]
     },
     "execution_count": 37,
     "metadata": {},
     "output_type": "execute_result"
    }
   ],
   "source": [
    "build_person('majid', 'zandi', age=42)"
   ]
  },
  {
   "cell_type": "markdown",
   "id": "conscious-bouquet",
   "metadata": {},
   "source": [
    "#### Using a Function with a while Loop"
   ]
  },
  {
   "cell_type": "code",
   "execution_count": 3,
   "id": "commercial-ensemble",
   "metadata": {},
   "outputs": [],
   "source": [
    "def get_formatted_name(first_name, last_name):\n",
    "    \"\"\"Return a full name, neatly formatted.\"\"\"\n",
    "    full_name = f\"{first_name} {last_name}\"\n",
    "    return full_name.title()"
   ]
  },
  {
   "cell_type": "code",
   "execution_count": 39,
   "id": "recovered-fever",
   "metadata": {},
   "outputs": [
    {
     "name": "stdout",
     "output_type": "stream",
     "text": [
      "\n",
      "Please tell me your name:\n",
      "First name: majid\n",
      "Last name: zandi\n",
      "\n",
      "Hello, Majid Zandi!\n",
      "\n",
      "Please tell me your name:\n",
      "First name: la\n",
      "Last name: as\n",
      "\n",
      "Hello, La As!\n",
      "\n",
      "Please tell me your name:\n",
      "First name: as\n",
      "Last name: as\n",
      "\n",
      "Hello, As As!\n",
      "\n",
      "Please tell me your name:\n",
      "First name: as\n",
      "Last name: as\n",
      "\n",
      "Hello, As As!\n",
      "\n",
      "Please tell me your name:\n",
      "First name: sdf\n",
      "Last name: sw\n",
      "\n",
      "Hello, Sdf Sw!\n",
      "\n",
      "Please tell me your name:\n"
     ]
    },
    {
     "ename": "KeyboardInterrupt",
     "evalue": "Interrupted by user",
     "output_type": "error",
     "traceback": [
      "\u001b[1;31m---------------------------------------------------------------------------\u001b[0m",
      "\u001b[1;31mKeyboardInterrupt\u001b[0m                         Traceback (most recent call last)",
      "\u001b[1;32m<ipython-input-39-b2caaf091053>\u001b[0m in \u001b[0;36m<module>\u001b[1;34m\u001b[0m\n\u001b[0;32m      2\u001b[0m \u001b[1;32mwhile\u001b[0m \u001b[1;32mTrue\u001b[0m\u001b[1;33m:\u001b[0m\u001b[1;33m\u001b[0m\u001b[1;33m\u001b[0m\u001b[0m\n\u001b[0;32m      3\u001b[0m     \u001b[0mprint\u001b[0m\u001b[1;33m(\u001b[0m\u001b[1;34m\"\\nPlease tell me your name:\"\u001b[0m\u001b[1;33m)\u001b[0m\u001b[1;33m\u001b[0m\u001b[1;33m\u001b[0m\u001b[0m\n\u001b[1;32m----> 4\u001b[1;33m     \u001b[0mf_name\u001b[0m \u001b[1;33m=\u001b[0m \u001b[0minput\u001b[0m\u001b[1;33m(\u001b[0m\u001b[1;34m\"First name: \"\u001b[0m\u001b[1;33m)\u001b[0m\u001b[1;33m\u001b[0m\u001b[1;33m\u001b[0m\u001b[0m\n\u001b[0m\u001b[0;32m      5\u001b[0m     \u001b[0ml_name\u001b[0m \u001b[1;33m=\u001b[0m \u001b[0minput\u001b[0m\u001b[1;33m(\u001b[0m\u001b[1;34m\"Last name: \"\u001b[0m\u001b[1;33m)\u001b[0m\u001b[1;33m\u001b[0m\u001b[1;33m\u001b[0m\u001b[0m\n\u001b[0;32m      6\u001b[0m     \u001b[0mformatted_name\u001b[0m \u001b[1;33m=\u001b[0m \u001b[0mget_formatted_name\u001b[0m\u001b[1;33m(\u001b[0m\u001b[0mf_name\u001b[0m\u001b[1;33m,\u001b[0m \u001b[0ml_name\u001b[0m\u001b[1;33m)\u001b[0m\u001b[1;33m\u001b[0m\u001b[1;33m\u001b[0m\u001b[0m\n",
      "\u001b[1;32m~\\.conda\\envs\\py4fi3.8\\lib\\site-packages\\ipykernel\\kernelbase.py\u001b[0m in \u001b[0;36mraw_input\u001b[1;34m(self, prompt)\u001b[0m\n\u001b[0;32m    858\u001b[0m                 \u001b[1;34m\"raw_input was called, but this frontend does not support input requests.\"\u001b[0m\u001b[1;33m\u001b[0m\u001b[1;33m\u001b[0m\u001b[0m\n\u001b[0;32m    859\u001b[0m             )\n\u001b[1;32m--> 860\u001b[1;33m         return self._input_request(str(prompt),\n\u001b[0m\u001b[0;32m    861\u001b[0m             \u001b[0mself\u001b[0m\u001b[1;33m.\u001b[0m\u001b[0m_parent_ident\u001b[0m\u001b[1;33m,\u001b[0m\u001b[1;33m\u001b[0m\u001b[1;33m\u001b[0m\u001b[0m\n\u001b[0;32m    862\u001b[0m             \u001b[0mself\u001b[0m\u001b[1;33m.\u001b[0m\u001b[0m_parent_header\u001b[0m\u001b[1;33m,\u001b[0m\u001b[1;33m\u001b[0m\u001b[1;33m\u001b[0m\u001b[0m\n",
      "\u001b[1;32m~\\.conda\\envs\\py4fi3.8\\lib\\site-packages\\ipykernel\\kernelbase.py\u001b[0m in \u001b[0;36m_input_request\u001b[1;34m(self, prompt, ident, parent, password)\u001b[0m\n\u001b[0;32m    902\u001b[0m             \u001b[1;32mexcept\u001b[0m \u001b[0mKeyboardInterrupt\u001b[0m\u001b[1;33m:\u001b[0m\u001b[1;33m\u001b[0m\u001b[1;33m\u001b[0m\u001b[0m\n\u001b[0;32m    903\u001b[0m                 \u001b[1;31m# re-raise KeyboardInterrupt, to truncate traceback\u001b[0m\u001b[1;33m\u001b[0m\u001b[1;33m\u001b[0m\u001b[1;33m\u001b[0m\u001b[0m\n\u001b[1;32m--> 904\u001b[1;33m                 \u001b[1;32mraise\u001b[0m \u001b[0mKeyboardInterrupt\u001b[0m\u001b[1;33m(\u001b[0m\u001b[1;34m\"Interrupted by user\"\u001b[0m\u001b[1;33m)\u001b[0m \u001b[1;32mfrom\u001b[0m \u001b[1;32mNone\u001b[0m\u001b[1;33m\u001b[0m\u001b[1;33m\u001b[0m\u001b[0m\n\u001b[0m\u001b[0;32m    905\u001b[0m             \u001b[1;32mexcept\u001b[0m \u001b[0mException\u001b[0m \u001b[1;32mas\u001b[0m \u001b[0me\u001b[0m\u001b[1;33m:\u001b[0m\u001b[1;33m\u001b[0m\u001b[1;33m\u001b[0m\u001b[0m\n\u001b[0;32m    906\u001b[0m                 \u001b[0mself\u001b[0m\u001b[1;33m.\u001b[0m\u001b[0mlog\u001b[0m\u001b[1;33m.\u001b[0m\u001b[0mwarning\u001b[0m\u001b[1;33m(\u001b[0m\u001b[1;34m\"Invalid Message:\"\u001b[0m\u001b[1;33m,\u001b[0m \u001b[0mexc_info\u001b[0m\u001b[1;33m=\u001b[0m\u001b[1;32mTrue\u001b[0m\u001b[1;33m)\u001b[0m\u001b[1;33m\u001b[0m\u001b[1;33m\u001b[0m\u001b[0m\n",
      "\u001b[1;31mKeyboardInterrupt\u001b[0m: Interrupted by user"
     ]
    }
   ],
   "source": [
    "# This is an infinite loop!\n",
    "while True:\n",
    "    print(\"\\nPlease tell me your name:\")\n",
    "    f_name = input(\"First name: \")\n",
    "    l_name = input(\"Last name: \")\n",
    "    formatted_name = get_formatted_name(f_name, l_name)\n",
    "    print(f\"\\nHello, {formatted_name}!\")"
   ]
  },
  {
   "cell_type": "code",
   "execution_count": 4,
   "id": "divided-wings",
   "metadata": {},
   "outputs": [
    {
     "name": "stdout",
     "output_type": "stream",
     "text": [
      "\n",
      "Please tell me your name:\n",
      "(enter 'q' at any time to quit)\n",
      "First name: majid\n",
      "Last name: zandi\n",
      "\n",
      "Hello, Majid Zandi!\n",
      "\n",
      "Please tell me your name:\n",
      "(enter 'q' at any time to quit)\n",
      "First name: zahra\n",
      "Last name: q\n"
     ]
    }
   ],
   "source": [
    "while True:\n",
    "    print(\"\\nPlease tell me your name:\")\n",
    "    print(\"(enter 'q' at any time to quit)\")\n",
    "    \n",
    "    f_name = input(\"First name: \")\n",
    "    if f_name == 'q':\n",
    "        break\n",
    "    l_name = input(\"Last name: \")\n",
    "    if l_name == 'q':\n",
    "        break\n",
    "        \n",
    "    formatted_name = get_formatted_name(f_name, l_name)\n",
    "    print(f\"\\nHello, {formatted_name}!\")"
   ]
  },
  {
   "cell_type": "markdown",
   "id": "isolated-electronics",
   "metadata": {},
   "source": [
    "#### Passing a List"
   ]
  },
  {
   "cell_type": "code",
   "execution_count": 8,
   "id": "strange-neighborhood",
   "metadata": {},
   "outputs": [],
   "source": [
    "def greet_users(names):\n",
    "    \"\"\"Print a simple greeting to each user in the list.\"\"\"\n",
    "    \n",
    "    for name in names:\n",
    "        msg = f\"Hello, {name.title()}!\"\n",
    "        print(msg)"
   ]
  },
  {
   "cell_type": "code",
   "execution_count": 9,
   "id": "excess-filename",
   "metadata": {},
   "outputs": [],
   "source": [
    "usernames = ['hannah', 'ty', 'margot']"
   ]
  },
  {
   "cell_type": "code",
   "execution_count": 10,
   "id": "sealed-still",
   "metadata": {},
   "outputs": [
    {
     "name": "stdout",
     "output_type": "stream",
     "text": [
      "Hello, Hannah!\n",
      "Hello, Ty!\n",
      "Hello, Margot!\n"
     ]
    }
   ],
   "source": [
    "greet_users(usernames)"
   ]
  },
  {
   "cell_type": "markdown",
   "id": "faced-simple",
   "metadata": {},
   "source": [
    "#### Modifying a List in a Function"
   ]
  },
  {
   "cell_type": "code",
   "execution_count": 11,
   "id": "elder-slovak",
   "metadata": {},
   "outputs": [
    {
     "name": "stdout",
     "output_type": "stream",
     "text": [
      "Printing model: dodecahedron\n",
      "Printing model: robot pendant\n",
      "Printing model: phone case\n",
      "\n",
      "The following models have been printed:\n",
      "dodecahedron\n",
      "robot pendant\n",
      "phone case\n"
     ]
    }
   ],
   "source": [
    "# Start with some designs that need to be printed.\n",
    "unprinted_designs = ['phone case', 'robot pendant', 'dodecahedron']\n",
    "completed_models = []\n",
    "\n",
    "# Simulate printing each design, until none are left.\n",
    "# Move each design to completed_models after printing.\n",
    "while unprinted_designs:\n",
    "    current_design = unprinted_designs.pop()\n",
    "    print(f\"Printing model: {current_design}\")\n",
    "    completed_models.append(current_design)\n",
    "    \n",
    "# Display all completed models.\n",
    "print(\"\\nThe following models have been printed:\")\n",
    "for completed_model in completed_models:\n",
    "    print(completed_model)"
   ]
  },
  {
   "cell_type": "code",
   "execution_count": 12,
   "id": "conscious-veteran",
   "metadata": {},
   "outputs": [],
   "source": [
    "def print_models(unprinted_designs, completed_models):\n",
    "    \"\"\"\n",
    "    Simulate printing each design, until none are left.\n",
    "    Move each design to completed_models after printing.\n",
    "    \"\"\"\n",
    "    while unprinted_designs:\n",
    "        current_design = unprinted_designs.pop()\n",
    "        print(f\"Printing model: {current_design}\")\n",
    "        completed_models.append(current_design)"
   ]
  },
  {
   "cell_type": "code",
   "execution_count": 13,
   "id": "dress-daisy",
   "metadata": {},
   "outputs": [],
   "source": [
    "def show_completed_models(completed_models):\n",
    "    \"\"\"Show all the models that were printed.\"\"\"\n",
    "    \n",
    "    print(\"\\nThe following models have been printed:\")\n",
    "    for completed_model in completed_models:\n",
    "        print(completed_model)"
   ]
  },
  {
   "cell_type": "code",
   "execution_count": 18,
   "id": "vertical-mexican",
   "metadata": {},
   "outputs": [],
   "source": [
    "unprinted_designs = ['phone case', 'robot pendant', 'dodecahedron']\n",
    "completed_models = []"
   ]
  },
  {
   "cell_type": "code",
   "execution_count": 15,
   "id": "third-civilization",
   "metadata": {},
   "outputs": [
    {
     "name": "stdout",
     "output_type": "stream",
     "text": [
      "Printing model: dodecahedron\n",
      "Printing model: robot pendant\n",
      "Printing model: phone case\n"
     ]
    }
   ],
   "source": [
    "print_models(unprinted_designs, completed_models)"
   ]
  },
  {
   "cell_type": "code",
   "execution_count": 16,
   "id": "cognitive-fancy",
   "metadata": {},
   "outputs": [
    {
     "name": "stdout",
     "output_type": "stream",
     "text": [
      "\n",
      "The following models have been printed:\n",
      "dodecahedron\n",
      "robot pendant\n",
      "phone case\n"
     ]
    }
   ],
   "source": [
    "show_completed_models(completed_models)"
   ]
  },
  {
   "cell_type": "markdown",
   "id": "offensive-balloon",
   "metadata": {},
   "source": [
    "#### Preventing a Function from Modifying a List"
   ]
  },
  {
   "cell_type": "code",
   "execution_count": 19,
   "id": "combined-harmony",
   "metadata": {},
   "outputs": [],
   "source": [
    "unprinted_designs = ['phone case', 'robot pendant', 'dodecahedron']\n",
    "completed_models = []"
   ]
  },
  {
   "cell_type": "code",
   "execution_count": 20,
   "id": "desperate-screening",
   "metadata": {},
   "outputs": [
    {
     "name": "stdout",
     "output_type": "stream",
     "text": [
      "Printing model: dodecahedron\n",
      "Printing model: robot pendant\n",
      "Printing model: phone case\n"
     ]
    }
   ],
   "source": [
    "print_models(unprinted_designs[:], completed_models)"
   ]
  },
  {
   "cell_type": "code",
   "execution_count": 21,
   "id": "olympic-station",
   "metadata": {},
   "outputs": [
    {
     "data": {
      "text/plain": [
       "['phone case', 'robot pendant', 'dodecahedron']"
      ]
     },
     "execution_count": 21,
     "metadata": {},
     "output_type": "execute_result"
    }
   ],
   "source": [
    "unprinted_designs"
   ]
  },
  {
   "cell_type": "markdown",
   "id": "going-grammar",
   "metadata": {},
   "source": [
    "### Passing an Arbitrary Number of Arguments"
   ]
  },
  {
   "cell_type": "code",
   "execution_count": 22,
   "id": "shared-characteristic",
   "metadata": {},
   "outputs": [],
   "source": [
    "def make_pizza(*toppings):\n",
    "    \"\"\"Print the list of toppings that have been requested.\"\"\"\n",
    "    print(toppings)"
   ]
  },
  {
   "cell_type": "code",
   "execution_count": 23,
   "id": "mathematical-struggle",
   "metadata": {},
   "outputs": [
    {
     "name": "stdout",
     "output_type": "stream",
     "text": [
      "('pepperoni',)\n"
     ]
    }
   ],
   "source": [
    "make_pizza('pepperoni')"
   ]
  },
  {
   "cell_type": "code",
   "execution_count": 24,
   "id": "furnished-drunk",
   "metadata": {},
   "outputs": [
    {
     "name": "stdout",
     "output_type": "stream",
     "text": [
      "('mushrooms', 'green peppers', 'extra cheese')\n"
     ]
    }
   ],
   "source": [
    "make_pizza('mushrooms', 'green peppers', 'extra cheese')"
   ]
  },
  {
   "cell_type": "code",
   "execution_count": 25,
   "id": "tired-library",
   "metadata": {},
   "outputs": [],
   "source": [
    "def make_pizza(*toppings):\n",
    "    \"\"\"Summarize the pizza we are about to make.\"\"\"\n",
    "    \n",
    "    print(\"\\nMaking a pizza with the following toppings:\")\n",
    "    for topping in toppings:\n",
    "        print(f\"- {topping}\")"
   ]
  },
  {
   "cell_type": "code",
   "execution_count": 26,
   "id": "skilled-corner",
   "metadata": {},
   "outputs": [
    {
     "name": "stdout",
     "output_type": "stream",
     "text": [
      "\n",
      "Making a pizza with the following toppings:\n",
      "- pepperoni\n"
     ]
    }
   ],
   "source": [
    "make_pizza('pepperoni')"
   ]
  },
  {
   "cell_type": "code",
   "execution_count": 27,
   "id": "common-courtesy",
   "metadata": {},
   "outputs": [
    {
     "name": "stdout",
     "output_type": "stream",
     "text": [
      "\n",
      "Making a pizza with the following toppings:\n",
      "- mushrooms\n",
      "- green peppers\n",
      "- extra cheese\n"
     ]
    }
   ],
   "source": [
    "make_pizza('mushrooms', 'green peppers', 'extra cheese')"
   ]
  },
  {
   "cell_type": "code",
   "execution_count": 28,
   "id": "meaning-plymouth",
   "metadata": {},
   "outputs": [],
   "source": [
    "def make_pizza(size, *toppings):\n",
    "    \"\"\"Summarize the pizza we are about to make.\"\"\"\n",
    "    \n",
    "    print(f\"\\nMaking a {size}-inch pizza with the following toppings:\")\n",
    "    for topping in toppings:\n",
    "        print(f\"- {topping}\")"
   ]
  },
  {
   "cell_type": "code",
   "execution_count": 29,
   "id": "numerical-metropolitan",
   "metadata": {},
   "outputs": [
    {
     "name": "stdout",
     "output_type": "stream",
     "text": [
      "\n",
      "Making a 16-inch pizza with the following toppings:\n",
      "- pepperoni\n"
     ]
    }
   ],
   "source": [
    "make_pizza(16, 'pepperoni')"
   ]
  },
  {
   "cell_type": "code",
   "execution_count": 30,
   "id": "shared-reconstruction",
   "metadata": {},
   "outputs": [
    {
     "name": "stdout",
     "output_type": "stream",
     "text": [
      "\n",
      "Making a 12-inch pizza with the following toppings:\n",
      "- mushrooms\n",
      "- green peppers\n",
      "- extra cheese\n"
     ]
    }
   ],
   "source": [
    "make_pizza(12, 'mushrooms', 'green peppers', 'extra cheese')"
   ]
  },
  {
   "cell_type": "markdown",
   "id": "happy-stream",
   "metadata": {},
   "source": [
    "#### Using Arbitrary Keyword Arguments"
   ]
  },
  {
   "cell_type": "code",
   "execution_count": 35,
   "id": "printable-scene",
   "metadata": {},
   "outputs": [],
   "source": [
    "def build_profile(first, last, **user_info):\n",
    "    \"\"\"Building a dictionary about everything we know about a user\"\"\"\n",
    "    \n",
    "    user_info['first_name'] = first\n",
    "    user_info['last_name'] = last\n",
    "    return user_info"
   ]
  },
  {
   "cell_type": "code",
   "execution_count": 37,
   "id": "clean-assistant",
   "metadata": {},
   "outputs": [
    {
     "data": {
      "text/plain": [
       "{'first_name': 'majid', 'last_name': 'zandi'}"
      ]
     },
     "execution_count": 37,
     "metadata": {},
     "output_type": "execute_result"
    }
   ],
   "source": [
    "build_profile('majid', 'zandi')"
   ]
  },
  {
   "cell_type": "code",
   "execution_count": 39,
   "id": "inner-trauma",
   "metadata": {},
   "outputs": [
    {
     "data": {
      "text/plain": [
       "{'email': 'majid@gmail.com',\n",
       " 'phone': '09127647072',\n",
       " 'first_name': 'majid',\n",
       " 'last_name': 'zandi'}"
      ]
     },
     "execution_count": 39,
     "metadata": {},
     "output_type": "execute_result"
    }
   ],
   "source": [
    "build_profile('majid', 'zandi', email='majid@gmail.com', phone='09127647072')"
   ]
  },
  {
   "cell_type": "markdown",
   "id": "informative-myrtle",
   "metadata": {},
   "source": [
    "## Storing Your Functions in Modules"
   ]
  },
  {
   "cell_type": "markdown",
   "id": "variable-latter",
   "metadata": {},
   "source": [
    "#### Importing an Entire Module"
   ]
  },
  {
   "cell_type": "code",
   "execution_count": 40,
   "id": "ruled-london",
   "metadata": {},
   "outputs": [],
   "source": [
    "import pizza"
   ]
  },
  {
   "cell_type": "code",
   "execution_count": 41,
   "id": "verified-threat",
   "metadata": {},
   "outputs": [
    {
     "name": "stdout",
     "output_type": "stream",
     "text": [
      "\n",
      "Making a 16-inch pizza with the following toppings:\n",
      "- pepperoni\n"
     ]
    }
   ],
   "source": [
    "pizza.make_pizza(16, 'pepperoni')"
   ]
  },
  {
   "cell_type": "code",
   "execution_count": 42,
   "id": "central-sudan",
   "metadata": {},
   "outputs": [
    {
     "name": "stdout",
     "output_type": "stream",
     "text": [
      "\n",
      "Making a 12-inch pizza with the following toppings:\n",
      "- mushrooms\n",
      "- green peppers\n",
      "- extra cheese\n"
     ]
    }
   ],
   "source": [
    "pizza.make_pizza(12, 'mushrooms', 'green peppers', 'extra cheese')"
   ]
  },
  {
   "cell_type": "markdown",
   "id": "signed-summit",
   "metadata": {},
   "source": [
    "#### Importing Specific Functions"
   ]
  },
  {
   "cell_type": "code",
   "execution_count": 43,
   "id": "saved-bonus",
   "metadata": {},
   "outputs": [],
   "source": [
    "from pizza import make_pizza"
   ]
  },
  {
   "cell_type": "code",
   "execution_count": 44,
   "id": "developing-sentence",
   "metadata": {},
   "outputs": [
    {
     "name": "stdout",
     "output_type": "stream",
     "text": [
      "\n",
      "Making a 16-inch pizza with the following toppings:\n",
      "- pepperoni\n"
     ]
    }
   ],
   "source": [
    "make_pizza(16, 'pepperoni')"
   ]
  },
  {
   "cell_type": "code",
   "execution_count": 45,
   "id": "residential-denmark",
   "metadata": {},
   "outputs": [
    {
     "name": "stdout",
     "output_type": "stream",
     "text": [
      "\n",
      "Making a 12-inch pizza with the following toppings:\n",
      "- mushrooms\n",
      "- green peppers\n",
      "- extra cheese\n"
     ]
    }
   ],
   "source": [
    "make_pizza(12, 'mushrooms', 'green peppers', 'extra cheese')"
   ]
  },
  {
   "cell_type": "markdown",
   "id": "acceptable-drink",
   "metadata": {},
   "source": [
    "#### Using as to Give a Function an Alias"
   ]
  },
  {
   "cell_type": "code",
   "execution_count": 46,
   "id": "veterinary-score",
   "metadata": {},
   "outputs": [],
   "source": [
    "from pizza import make_pizza as mp"
   ]
  },
  {
   "cell_type": "code",
   "execution_count": 47,
   "id": "electric-african",
   "metadata": {},
   "outputs": [
    {
     "name": "stdout",
     "output_type": "stream",
     "text": [
      "\n",
      "Making a 16-inch pizza with the following toppings:\n",
      "- pepperoni\n"
     ]
    }
   ],
   "source": [
    "mp(16, 'pepperoni')"
   ]
  },
  {
   "cell_type": "code",
   "execution_count": 48,
   "id": "prerequisite-adolescent",
   "metadata": {},
   "outputs": [
    {
     "name": "stdout",
     "output_type": "stream",
     "text": [
      "\n",
      "Making a 12-inch pizza with the following toppings:\n",
      "- mushrooms\n",
      "- green peppers\n",
      "- extra cheese\n"
     ]
    }
   ],
   "source": [
    "mp(12, 'mushrooms', 'green peppers', 'extra cheese')"
   ]
  },
  {
   "cell_type": "markdown",
   "id": "representative-guitar",
   "metadata": {},
   "source": [
    "#### Using as to Give a Module an Alias"
   ]
  },
  {
   "cell_type": "code",
   "execution_count": 49,
   "id": "false-collector",
   "metadata": {},
   "outputs": [],
   "source": [
    "import pizza as p"
   ]
  },
  {
   "cell_type": "code",
   "execution_count": 50,
   "id": "domestic-snowboard",
   "metadata": {},
   "outputs": [
    {
     "name": "stdout",
     "output_type": "stream",
     "text": [
      "\n",
      "Making a 16-inch pizza with the following toppings:\n",
      "- pepperoni\n"
     ]
    }
   ],
   "source": [
    "p.make_pizza(16, 'pepperoni')"
   ]
  },
  {
   "cell_type": "code",
   "execution_count": 51,
   "id": "earned-evidence",
   "metadata": {},
   "outputs": [
    {
     "name": "stdout",
     "output_type": "stream",
     "text": [
      "\n",
      "Making a 12-inch pizza with the following toppings:\n",
      "- mushrooms\n",
      "- green peppers\n",
      "- extra cheese\n"
     ]
    }
   ],
   "source": [
    "p.make_pizza(12, 'mushrooms', 'green peppers', 'extra cheese')"
   ]
  },
  {
   "cell_type": "markdown",
   "id": "stopped-fence",
   "metadata": {},
   "source": [
    "#### Importing All Functions in a Module"
   ]
  },
  {
   "cell_type": "code",
   "execution_count": 52,
   "id": "dying-jaguar",
   "metadata": {},
   "outputs": [],
   "source": [
    "from pizza import *"
   ]
  },
  {
   "cell_type": "code",
   "execution_count": 53,
   "id": "framed-residence",
   "metadata": {},
   "outputs": [
    {
     "name": "stdout",
     "output_type": "stream",
     "text": [
      "\n",
      "Making a 16-inch pizza with the following toppings:\n",
      "- pepperoni\n"
     ]
    }
   ],
   "source": [
    "make_pizza(16, 'pepperoni')"
   ]
  },
  {
   "cell_type": "code",
   "execution_count": 54,
   "id": "consecutive-relative",
   "metadata": {},
   "outputs": [
    {
     "name": "stdout",
     "output_type": "stream",
     "text": [
      "\n",
      "Making a 12-inch pizza with the following toppings:\n",
      "- mushrooms\n",
      "- green peppers\n",
      "- extra cheese\n"
     ]
    }
   ],
   "source": [
    "make_pizza(12, 'mushrooms', 'green peppers', 'extra cheese')"
   ]
  },
  {
   "cell_type": "markdown",
   "id": "aquatic-mobility",
   "metadata": {},
   "source": [
    "## Styling Functions"
   ]
  },
  {
   "cell_type": "markdown",
   "id": "awful-corporation",
   "metadata": {},
   "source": [
    "def <i>function_name(parameter_0, parameter_1='default value')</i>"
   ]
  },
  {
   "cell_type": "markdown",
   "id": "perfect-serve",
   "metadata": {},
   "source": [
    "def <i>function_name(<br>\n",
    "parameter_0, parameter_1, parameter_2,<br>\n",
    "parameter_3, parameter_4, parameter_5):<br>\n",
    "function body...</i>"
   ]
  }
 ],
 "metadata": {
  "kernelspec": {
   "display_name": "Python 3",
   "language": "python",
   "name": "python3"
  },
  "language_info": {
   "codemirror_mode": {
    "name": "ipython",
    "version": 3
   },
   "file_extension": ".py",
   "mimetype": "text/x-python",
   "name": "python",
   "nbconvert_exporter": "python",
   "pygments_lexer": "ipython3",
   "version": "3.8.5"
  }
 },
 "nbformat": 4,
 "nbformat_minor": 5
}
